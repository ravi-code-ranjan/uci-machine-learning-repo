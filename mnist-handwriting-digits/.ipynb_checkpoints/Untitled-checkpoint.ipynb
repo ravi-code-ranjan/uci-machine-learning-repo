{
 "cells": [
  {
   "cell_type": "code",
   "execution_count": 20,
   "metadata": {
    "collapsed": true
   },
   "outputs": [],
   "source": [
    "import os\n",
    "import struct\n",
    "import numpy as np\n",
    " \n",
    "def load_mnist(path, kind='train'):\n",
    "    \"\"\"Load MNIST data from `path`\"\"\"\n",
    "    labels_path = os.path.join(path, \n",
    "                               '%s-labels.idx1-ubyte' % kind)\n",
    "    images_path = os.path.join(path, \n",
    "                               '%s-images.idx3-ubyte' % kind)\n",
    "        \n",
    "    with open(labels_path, 'rb') as lbpath:\n",
    "        magic, n = struct.unpack('>II', \n",
    "                                 lbpath.read(8))\n",
    "        labels = np.fromfile(lbpath, \n",
    "                             dtype=np.uint8)\n",
    "\n",
    "    with open(images_path, 'rb') as imgpath:\n",
    "        magic, num, rows, cols = struct.unpack(\">IIII\", \n",
    "                                               imgpath.read(16))\n",
    "        images = np.fromfile(imgpath, \n",
    "                             dtype=np.uint8).reshape(len(labels), 784)\n",
    " \n",
    "    return images, labels"
   ]
  },
  {
   "cell_type": "code",
   "execution_count": 21,
   "metadata": {},
   "outputs": [
    {
     "name": "stdout",
     "output_type": "stream",
     "text": [
      "Rows: 60000, columns: 784\n"
     ]
    }
   ],
   "source": [
    "X_train, y_train = load_mnist('mnist', kind='train')\n",
    "print('Rows: %d, columns: %d' % (X_train.shape[0], X_train.shape[1]))"
   ]
  },
  {
   "cell_type": "code",
   "execution_count": 22,
   "metadata": {},
   "outputs": [
    {
     "name": "stdout",
     "output_type": "stream",
     "text": [
      "Rows: 10000, columns: 784\n"
     ]
    }
   ],
   "source": [
    "X_test, y_test = load_mnist('mnist', kind='t10k')\n",
    "print('Rows: %d, columns: %d' % (X_test.shape[0], X_test.shape[1]))\n"
   ]
  },
  {
   "cell_type": "code",
   "execution_count": 23,
   "metadata": {},
   "outputs": [],
   "source": [
    "\n",
    "\n",
    "import theano \n",
    "\n",
    "theano.config.floatX = 'float32'\n",
    "X_train = X_train.astype(theano.config.floatX)\n",
    "X_test = X_test.astype(theano.config.floatX)\n",
    "\n"
   ]
  },
  {
   "cell_type": "code",
   "execution_count": 24,
   "metadata": {},
   "outputs": [
    {
     "name": "stdout",
     "output_type": "stream",
     "text": [
      "('First 3 labels: ', array([5, 0, 4], dtype=uint8))\n",
      "('\\nFirst 3 labels (one-hot):\\n', array([[ 0.,  0.,  0.,  0.,  0.,  1.,  0.,  0.,  0.,  0.],\n",
      "       [ 1.,  0.,  0.,  0.,  0.,  0.,  0.,  0.,  0.,  0.],\n",
      "       [ 0.,  0.,  0.,  0.,  1.,  0.,  0.,  0.,  0.,  0.]]))\n"
     ]
    }
   ],
   "source": [
    "\n",
    "\n",
    "from keras.utils import np_utils\n",
    "\n",
    "print('First 3 labels: ', y_train[:3])\n",
    "\n",
    "y_train_ohe = np_utils.to_categorical(y_train) \n",
    "print('\\nFirst 3 labels (one-hot):\\n', y_train_ohe[:3])\n",
    "\n"
   ]
  },
  {
   "cell_type": "code",
   "execution_count": 29,
   "metadata": {
    "scrolled": false
   },
   "outputs": [
    {
     "name": "stderr",
     "output_type": "stream",
     "text": [
      "/home/likewise-open/IMFCORP/ravi.ranjan/anaconda2/lib/python2.7/site-packages/ipykernel_launcher.py:11: UserWarning: Update your `Dense` call to the Keras 2 API: `Dense(kernel_initializer=\"uniform\", activation=\"tanh\", input_dim=784, units=50)`\n",
      "  # This is added back by InteractiveShellApp.init_path()\n",
      "/home/likewise-open/IMFCORP/ravi.ranjan/anaconda2/lib/python2.7/site-packages/ipykernel_launcher.py:16: UserWarning: Update your `Dense` call to the Keras 2 API: `Dense(kernel_initializer=\"uniform\", activation=\"tanh\", input_dim=50, units=50)`\n",
      "  app.launch_new_instance()\n",
      "/home/likewise-open/IMFCORP/ravi.ranjan/anaconda2/lib/python2.7/site-packages/ipykernel_launcher.py:21: UserWarning: Update your `Dense` call to the Keras 2 API: `Dense(kernel_initializer=\"uniform\", activation=\"softmax\", input_dim=50, units=10)`\n"
     ]
    },
    {
     "name": "stdout",
     "output_type": "stream",
     "text": [
      "Train on 54000 samples, validate on 6000 samples\n",
      "Epoch 1/50\n",
      "54000/54000 [==============================] - 1s - loss: 2.2208 - acc: 0.4291 - val_loss: 2.0865 - val_acc: 0.6277\n",
      "Epoch 2/50\n",
      "54000/54000 [==============================] - 0s - loss: 1.8305 - acc: 0.6205 - val_loss: 1.5089 - val_acc: 0.6558\n",
      "Epoch 3/50\n",
      "54000/54000 [==============================] - 1s - loss: 1.3005 - acc: 0.6576 - val_loss: 1.0752 - val_acc: 0.7330\n",
      "Epoch 4/50\n",
      "54000/54000 [==============================] - 0s - loss: 0.9819 - acc: 0.7460 - val_loss: 0.8243 - val_acc: 0.8077\n",
      "Epoch 5/50\n",
      "54000/54000 [==============================] - 1s - loss: 0.7807 - acc: 0.8089 - val_loss: 0.6563 - val_acc: 0.8597\n",
      "Epoch 6/50\n",
      "54000/54000 [==============================] - 0s - loss: 0.6445 - acc: 0.8496 - val_loss: 0.5458 - val_acc: 0.8857\n",
      "Epoch 7/50\n",
      "54000/54000 [==============================] - 0s - loss: 0.5540 - acc: 0.8692 - val_loss: 0.4624 - val_acc: 0.8978\n",
      "Epoch 8/50\n",
      "54000/54000 [==============================] - 1s - loss: 0.4923 - acc: 0.8802 - val_loss: 0.4239 - val_acc: 0.9002\n",
      "Epoch 9/50\n",
      "54000/54000 [==============================] - 0s - loss: 0.4523 - acc: 0.8869 - val_loss: 0.3969 - val_acc: 0.9055\n",
      "Epoch 10/50\n",
      "54000/54000 [==============================] - 0s - loss: 0.4166 - acc: 0.8949 - val_loss: 0.3603 - val_acc: 0.9118\n",
      "Epoch 11/50\n",
      "54000/54000 [==============================] - 1s - loss: 0.3969 - acc: 0.8968 - val_loss: 0.3344 - val_acc: 0.9130\n",
      "Epoch 12/50\n",
      "54000/54000 [==============================] - 1s - loss: 0.3750 - acc: 0.9007 - val_loss: 0.3115 - val_acc: 0.9233\n",
      "Epoch 13/50\n",
      "54000/54000 [==============================] - 0s - loss: 0.3604 - acc: 0.9031 - val_loss: 0.3116 - val_acc: 0.9195\n",
      "Epoch 14/50\n",
      "54000/54000 [==============================] - 0s - loss: 0.3516 - acc: 0.9054 - val_loss: 0.2918 - val_acc: 0.9262\n",
      "Epoch 15/50\n",
      "54000/54000 [==============================] - 1s - loss: 0.3298 - acc: 0.9098 - val_loss: 0.2739 - val_acc: 0.9297\n",
      "Epoch 16/50\n",
      "54000/54000 [==============================] - 0s - loss: 0.3179 - acc: 0.9134 - val_loss: 0.2730 - val_acc: 0.9283\n",
      "Epoch 17/50\n",
      "54000/54000 [==============================] - 0s - loss: 0.3173 - acc: 0.9138 - val_loss: 0.2816 - val_acc: 0.9262\n",
      "Epoch 18/50\n",
      "54000/54000 [==============================] - 1s - loss: 0.3058 - acc: 0.9150 - val_loss: 0.2622 - val_acc: 0.9313\n",
      "Epoch 19/50\n",
      "54000/54000 [==============================] - 1s - loss: 0.3001 - acc: 0.9179 - val_loss: 0.2597 - val_acc: 0.9308\n",
      "Epoch 20/50\n",
      "54000/54000 [==============================] - 0s - loss: 0.2882 - acc: 0.9191 - val_loss: 0.2625 - val_acc: 0.9262\n",
      "Epoch 21/50\n",
      "54000/54000 [==============================] - 0s - loss: 0.2888 - acc: 0.9203 - val_loss: 0.2530 - val_acc: 0.9322\n",
      "Epoch 22/50\n",
      "54000/54000 [==============================] - 1s - loss: 0.2770 - acc: 0.9233 - val_loss: 0.2380 - val_acc: 0.9382\n",
      "Epoch 23/50\n",
      "54000/54000 [==============================] - 1s - loss: 0.2662 - acc: 0.9263 - val_loss: 0.2355 - val_acc: 0.9367\n",
      "Epoch 24/50\n",
      "54000/54000 [==============================] - 0s - loss: 0.2658 - acc: 0.9254 - val_loss: 0.2232 - val_acc: 0.9403\n",
      "Epoch 25/50\n",
      "54000/54000 [==============================] - 0s - loss: 0.2642 - acc: 0.9257 - val_loss: 0.2331 - val_acc: 0.9350\n",
      "Epoch 26/50\n",
      "54000/54000 [==============================] - 1s - loss: 0.2575 - acc: 0.9265 - val_loss: 0.2317 - val_acc: 0.9388\n",
      "Epoch 27/50\n",
      "54000/54000 [==============================] - 1s - loss: 0.2587 - acc: 0.9270 - val_loss: 0.2205 - val_acc: 0.9423\n",
      "Epoch 28/50\n",
      "54000/54000 [==============================] - 0s - loss: 0.2548 - acc: 0.9278 - val_loss: 0.2380 - val_acc: 0.9348\n",
      "Epoch 29/50\n",
      "54000/54000 [==============================] - 1s - loss: 0.2565 - acc: 0.9265 - val_loss: 0.2242 - val_acc: 0.9392\n",
      "Epoch 30/50\n",
      "54000/54000 [==============================] - 1s - loss: 0.2481 - acc: 0.9287 - val_loss: 0.2081 - val_acc: 0.9442\n",
      "Epoch 31/50\n",
      "54000/54000 [==============================] - 1s - loss: 0.2393 - acc: 0.9319 - val_loss: 0.2147 - val_acc: 0.9427\n",
      "Epoch 32/50\n",
      "54000/54000 [==============================] - 1s - loss: 0.2365 - acc: 0.9326 - val_loss: 0.2066 - val_acc: 0.9440\n",
      "Epoch 33/50\n",
      "54000/54000 [==============================] - 1s - loss: 0.2366 - acc: 0.9305 - val_loss: 0.1988 - val_acc: 0.9480\n",
      "Epoch 34/50\n",
      "54000/54000 [==============================] - 1s - loss: 0.2272 - acc: 0.9353 - val_loss: 0.2017 - val_acc: 0.9468\n",
      "Epoch 35/50\n",
      "54000/54000 [==============================] - 0s - loss: 0.2235 - acc: 0.9362 - val_loss: 0.1977 - val_acc: 0.9465\n",
      "Epoch 36/50\n",
      "54000/54000 [==============================] - 0s - loss: 0.2315 - acc: 0.9329 - val_loss: 0.2020 - val_acc: 0.9453\n",
      "Epoch 37/50\n",
      "54000/54000 [==============================] - 0s - loss: 0.2248 - acc: 0.9349 - val_loss: 0.2151 - val_acc: 0.9377\n",
      "Epoch 38/50\n",
      "54000/54000 [==============================] - 1s - loss: 0.2207 - acc: 0.9369 - val_loss: 0.2004 - val_acc: 0.9450\n",
      "Epoch 39/50\n",
      "54000/54000 [==============================] - 0s - loss: 0.2213 - acc: 0.9374 - val_loss: 0.2008 - val_acc: 0.9438\n",
      "Epoch 40/50\n",
      "54000/54000 [==============================] - 1s - loss: 0.2136 - acc: 0.9378 - val_loss: 0.1814 - val_acc: 0.9490\n",
      "Epoch 41/50\n",
      "54000/54000 [==============================] - 0s - loss: 0.2177 - acc: 0.9363 - val_loss: 0.2003 - val_acc: 0.9427\n",
      "Epoch 42/50\n",
      "54000/54000 [==============================] - 0s - loss: 0.2067 - acc: 0.9395 - val_loss: 0.1835 - val_acc: 0.9468\n",
      "Epoch 43/50\n",
      "54000/54000 [==============================] - 0s - loss: 0.2055 - acc: 0.9410 - val_loss: 0.1945 - val_acc: 0.9463\n",
      "Epoch 44/50\n",
      "54000/54000 [==============================] - 0s - loss: 0.2123 - acc: 0.9381 - val_loss: 0.1882 - val_acc: 0.9470\n",
      "Epoch 45/50\n",
      "54000/54000 [==============================] - 0s - loss: 0.2074 - acc: 0.9392 - val_loss: 0.1942 - val_acc: 0.9468\n",
      "Epoch 46/50\n",
      "54000/54000 [==============================] - 1s - loss: 0.2106 - acc: 0.9389 - val_loss: 0.1941 - val_acc: 0.9452\n",
      "Epoch 47/50\n",
      "54000/54000 [==============================] - 1s - loss: 0.2170 - acc: 0.9371 - val_loss: 0.1940 - val_acc: 0.9470\n",
      "Epoch 48/50\n",
      "54000/54000 [==============================] - 0s - loss: 0.2105 - acc: 0.9388 - val_loss: 0.1922 - val_acc: 0.9457\n",
      "Epoch 49/50\n",
      "54000/54000 [==============================] - 0s - loss: 0.2023 - acc: 0.9410 - val_loss: 0.1774 - val_acc: 0.9527\n",
      "Epoch 50/50\n",
      "54000/54000 [==============================] - 0s - loss: 0.2009 - acc: 0.9416 - val_loss: 0.1794 - val_acc: 0.9502\n"
     ]
    },
    {
     "data": {
      "text/plain": [
       "<keras.callbacks.History at 0x7f2e8c123d50>"
      ]
     },
     "execution_count": 29,
     "metadata": {},
     "output_type": "execute_result"
    }
   ],
   "source": [
    "from keras.models import Sequential\n",
    "from keras.layers.core import Dense\n",
    "from keras.optimizers import SGD\n",
    "\n",
    "np.random.seed(1) \n",
    "\n",
    "model = Sequential()\n",
    "model.add(Dense(input_dim=X_train.shape[1], \n",
    "                output_dim=50, \n",
    "                init='uniform', \n",
    "                activation='tanh'))\n",
    "\n",
    "model.add(Dense(input_dim=50, \n",
    "                output_dim=50, \n",
    "                init='uniform', \n",
    "                activation='tanh'))\n",
    "\n",
    "model.add(Dense(input_dim=50, \n",
    "                output_dim=y_train_ohe.shape[1], \n",
    "                init='uniform', \n",
    "                activation='softmax'))\n",
    "\n",
    "sgd = SGD(lr=0.001, decay=1e-7, momentum=.9)\n",
    "model.compile(loss='categorical_crossentropy', optimizer=sgd, metrics=['accuracy'])\n",
    "\n",
    "model.fit(X_train, y_train_ohe, \n",
    "          nb_epoch=50, \n",
    "          batch_size=300, \n",
    "          verbose=1, \n",
    "          validation_split=0.1\n",
    "           )"
   ]
  },
  {
   "cell_type": "code",
   "execution_count": null,
   "metadata": {
    "collapsed": true
   },
   "outputs": [],
   "source": [
    "http://nbviewer.jupyter.org/github/rasbt/python-machine-learning-book/blob/master/code/ch13/ch13.ipynb"
   ]
  }
 ],
 "metadata": {
  "kernelspec": {
   "display_name": "Python 2",
   "language": "python",
   "name": "python2"
  },
  "language_info": {
   "codemirror_mode": {
    "name": "ipython",
    "version": 2
   },
   "file_extension": ".py",
   "mimetype": "text/x-python",
   "name": "python",
   "nbconvert_exporter": "python",
   "pygments_lexer": "ipython2",
   "version": "2.7.13"
  }
 },
 "nbformat": 4,
 "nbformat_minor": 2
}
