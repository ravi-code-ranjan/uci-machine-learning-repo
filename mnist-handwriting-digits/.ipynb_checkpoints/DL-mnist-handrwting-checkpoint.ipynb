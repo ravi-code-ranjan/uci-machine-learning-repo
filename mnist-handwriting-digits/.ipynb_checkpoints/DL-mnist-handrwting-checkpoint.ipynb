{
 "cells": [
  {
   "cell_type": "code",
   "execution_count": 18,
   "metadata": {
    "collapsed": true
   },
   "outputs": [],
   "source": [
    "import os\n",
    "import struct\n",
    "import numpy as np\n",
    " \n",
    "def load_mnist(path, kind='train'):\n",
    "    \"\"\"Load MNIST data from `path`\"\"\"\n",
    "    labels_path = os.path.join(path, \n",
    "                               '%s-labels.idx1-ubyte' % kind)\n",
    "    images_path = os.path.join(path, \n",
    "                               '%s-images.idx3-ubyte' % kind)\n",
    "        \n",
    "    with open(labels_path, 'rb') as lbpath:\n",
    "        magic, n = struct.unpack('>II', \n",
    "                                 lbpath.read(8))\n",
    "        labels = np.fromfile(lbpath, \n",
    "                             dtype=np.uint8)\n",
    "\n",
    "    with open(images_path, 'rb') as imgpath:\n",
    "        magic, num, rows, cols = struct.unpack(\">IIII\", \n",
    "                                               imgpath.read(16))\n",
    "        images = np.fromfile(imgpath, \n",
    "                             dtype=np.uint8).reshape(len(labels), 784)\n",
    " \n",
    "    return images, labels"
   ]
  },
  {
   "cell_type": "code",
   "execution_count": 19,
   "metadata": {},
   "outputs": [
    {
     "name": "stdout",
     "output_type": "stream",
     "text": [
      "Rows: 60000, columns: 784\n"
     ]
    }
   ],
   "source": [
    "X_train, y_train = load_mnist('data', kind='train')\n",
    "print('Rows: %d, columns: %d' % (X_train.shape[0], X_train.shape[1]))"
   ]
  },
  {
   "cell_type": "code",
   "execution_count": 20,
   "metadata": {},
   "outputs": [
    {
     "name": "stdout",
     "output_type": "stream",
     "text": [
      "Rows: 10000, columns: 784\n"
     ]
    }
   ],
   "source": [
    "X_test, y_test = load_mnist('data', kind='t10k')\n",
    "print('Rows: %d, columns: %d' % (X_test.shape[0], X_test.shape[1]))\n"
   ]
  },
  {
   "cell_type": "code",
   "execution_count": 21,
   "metadata": {},
   "outputs": [],
   "source": [
    "\n",
    "\n",
    "import theano \n",
    "\n",
    "theano.config.floatX = 'float32'\n",
    "X_train = X_train.astype(theano.config.floatX)\n",
    "X_test = X_test.astype(theano.config.floatX)\n",
    "\n"
   ]
  },
  {
   "cell_type": "code",
   "execution_count": 22,
   "metadata": {},
   "outputs": [
    {
     "name": "stdout",
     "output_type": "stream",
     "text": [
      "('First 3 labels: ', array([5, 0, 4], dtype=uint8))\n",
      "('\\nFirst 3 labels (one-hot):\\n', array([[ 0.,  0.,  0.,  0.,  0.,  1.,  0.,  0.,  0.,  0.],\n",
      "       [ 1.,  0.,  0.,  0.,  0.,  0.,  0.,  0.,  0.,  0.],\n",
      "       [ 0.,  0.,  0.,  0.,  1.,  0.,  0.,  0.,  0.,  0.]]))\n"
     ]
    }
   ],
   "source": [
    "\n",
    "\n",
    "from keras.utils import np_utils\n",
    "\n",
    "print('First 3 labels: ', y_train[:3])\n",
    "\n",
    "y_train_ohe = np_utils.to_categorical(y_train) \n",
    "print('\\nFirst 3 labels (one-hot):\\n', y_train_ohe[:3])\n",
    "\n"
   ]
  },
  {
   "cell_type": "code",
   "execution_count": 23,
   "metadata": {
    "scrolled": false
   },
   "outputs": [
    {
     "name": "stderr",
     "output_type": "stream",
     "text": [
      "/home/likewise-open/IMFCORP/ravi.ranjan/anaconda2/lib/python2.7/site-packages/ipykernel_launcher.py:11: UserWarning: Update your `Dense` call to the Keras 2 API: `Dense(kernel_initializer=\"uniform\", activation=\"tanh\", input_dim=784, units=50)`\n",
      "  # This is added back by InteractiveShellApp.init_path()\n",
      "/home/likewise-open/IMFCORP/ravi.ranjan/anaconda2/lib/python2.7/site-packages/ipykernel_launcher.py:16: UserWarning: Update your `Dense` call to the Keras 2 API: `Dense(kernel_initializer=\"uniform\", activation=\"tanh\", input_dim=50, units=50)`\n",
      "  app.launch_new_instance()\n",
      "/home/likewise-open/IMFCORP/ravi.ranjan/anaconda2/lib/python2.7/site-packages/ipykernel_launcher.py:21: UserWarning: Update your `Dense` call to the Keras 2 API: `Dense(kernel_initializer=\"uniform\", activation=\"softmax\", input_dim=50, units=10)`\n"
     ]
    },
    {
     "name": "stdout",
     "output_type": "stream",
     "text": [
      "Train on 54000 samples, validate on 6000 samples\n",
      "Epoch 1/50\n",
      "54000/54000 [==============================] - 1s - loss: 2.2208 - acc: 0.4289 - val_loss: 2.0863 - val_acc: 0.6250\n",
      "Epoch 2/50\n",
      "54000/54000 [==============================] - 1s - loss: 1.8303 - acc: 0.6197 - val_loss: 1.5088 - val_acc: 0.6547\n",
      "Epoch 3/50\n",
      "54000/54000 [==============================] - 1s - loss: 1.3011 - acc: 0.6550 - val_loss: 1.0769 - val_acc: 0.7257\n",
      "Epoch 4/50\n",
      "54000/54000 [==============================] - 1s - loss: 0.9813 - acc: 0.7493 - val_loss: 0.8200 - val_acc: 0.8108\n",
      "Epoch 5/50\n",
      "54000/54000 [==============================] - 1s - loss: 0.7792 - acc: 0.8114 - val_loss: 0.6515 - val_acc: 0.8587\n",
      "Epoch 6/50\n",
      "54000/54000 [==============================] - 0s - loss: 0.6456 - acc: 0.8491 - val_loss: 0.5452 - val_acc: 0.8800\n",
      "Epoch 7/50\n",
      "54000/54000 [==============================] - 1s - loss: 0.5574 - acc: 0.8696 - val_loss: 0.4742 - val_acc: 0.8983\n",
      "Epoch 8/50\n",
      "54000/54000 [==============================] - 1s - loss: 0.4985 - acc: 0.8795 - val_loss: 0.4224 - val_acc: 0.9045\n",
      "Epoch 9/50\n",
      "54000/54000 [==============================] - 1s - loss: 0.4543 - acc: 0.8856 - val_loss: 0.3790 - val_acc: 0.9100\n",
      "Epoch 10/50\n",
      "54000/54000 [==============================] - 1s - loss: 0.4234 - acc: 0.8925 - val_loss: 0.3554 - val_acc: 0.9153\n",
      "Epoch 11/50\n",
      "54000/54000 [==============================] - 0s - loss: 0.3959 - acc: 0.8985 - val_loss: 0.3365 - val_acc: 0.9207\n",
      "Epoch 12/50\n",
      "54000/54000 [==============================] - 0s - loss: 0.3805 - acc: 0.9006 - val_loss: 0.3299 - val_acc: 0.9188\n",
      "Epoch 13/50\n",
      "54000/54000 [==============================] - 1s - loss: 0.3608 - acc: 0.9045 - val_loss: 0.3092 - val_acc: 0.9223\n",
      "Epoch 14/50\n",
      "54000/54000 [==============================] - 1s - loss: 0.3512 - acc: 0.9060 - val_loss: 0.2867 - val_acc: 0.9275\n",
      "Epoch 15/50\n",
      "54000/54000 [==============================] - 1s - loss: 0.3332 - acc: 0.9098 - val_loss: 0.2821 - val_acc: 0.9257\n",
      "Epoch 16/50\n",
      "54000/54000 [==============================] - 0s - loss: 0.3250 - acc: 0.9127 - val_loss: 0.2725 - val_acc: 0.9287\n",
      "Epoch 17/50\n",
      "54000/54000 [==============================] - 1s - loss: 0.3139 - acc: 0.9140 - val_loss: 0.2729 - val_acc: 0.9282\n",
      "Epoch 18/50\n",
      "54000/54000 [==============================] - 1s - loss: 0.3143 - acc: 0.9132 - val_loss: 0.2602 - val_acc: 0.9310\n",
      "Epoch 19/50\n",
      "54000/54000 [==============================] - 1s - loss: 0.3073 - acc: 0.9153 - val_loss: 0.2533 - val_acc: 0.9348\n",
      "Epoch 20/50\n",
      "54000/54000 [==============================] - 1s - loss: 0.2979 - acc: 0.9171 - val_loss: 0.2493 - val_acc: 0.9323\n",
      "Epoch 21/50\n",
      "54000/54000 [==============================] - 0s - loss: 0.2926 - acc: 0.9176 - val_loss: 0.2456 - val_acc: 0.9358\n",
      "Epoch 22/50\n",
      "54000/54000 [==============================] - 0s - loss: 0.2859 - acc: 0.9203 - val_loss: 0.2438 - val_acc: 0.9343\n",
      "Epoch 23/50\n",
      "54000/54000 [==============================] - 0s - loss: 0.2760 - acc: 0.9232 - val_loss: 0.2419 - val_acc: 0.9318\n",
      "Epoch 24/50\n",
      "54000/54000 [==============================] - 1s - loss: 0.2705 - acc: 0.9233 - val_loss: 0.2255 - val_acc: 0.9397\n",
      "Epoch 25/50\n",
      "54000/54000 [==============================] - 1s - loss: 0.2628 - acc: 0.9251 - val_loss: 0.2292 - val_acc: 0.9388\n",
      "Epoch 26/50\n",
      "54000/54000 [==============================] - 1s - loss: 0.2574 - acc: 0.9281 - val_loss: 0.2243 - val_acc: 0.9390\n",
      "Epoch 27/50\n",
      "54000/54000 [==============================] - 1s - loss: 0.2583 - acc: 0.9277 - val_loss: 0.2207 - val_acc: 0.9427\n",
      "Epoch 28/50\n",
      "54000/54000 [==============================] - 0s - loss: 0.2582 - acc: 0.9272 - val_loss: 0.2227 - val_acc: 0.9417\n",
      "Epoch 29/50\n",
      "54000/54000 [==============================] - 1s - loss: 0.2497 - acc: 0.9292 - val_loss: 0.2170 - val_acc: 0.9400\n",
      "Epoch 30/50\n",
      "54000/54000 [==============================] - 1s - loss: 0.2520 - acc: 0.9284 - val_loss: 0.2134 - val_acc: 0.9432\n",
      "Epoch 31/50\n",
      "54000/54000 [==============================] - 1s - loss: 0.2429 - acc: 0.9313 - val_loss: 0.2163 - val_acc: 0.9368\n",
      "Epoch 32/50\n",
      "54000/54000 [==============================] - 1s - loss: 0.2419 - acc: 0.9292 - val_loss: 0.2148 - val_acc: 0.9413\n",
      "Epoch 33/50\n",
      "54000/54000 [==============================] - 0s - loss: 0.2445 - acc: 0.9295 - val_loss: 0.2058 - val_acc: 0.9420\n",
      "Epoch 34/50\n",
      "54000/54000 [==============================] - 0s - loss: 0.2416 - acc: 0.9301 - val_loss: 0.2081 - val_acc: 0.9390\n",
      "Epoch 35/50\n",
      "54000/54000 [==============================] - 1s - loss: 0.2388 - acc: 0.9309 - val_loss: 0.2106 - val_acc: 0.9402\n",
      "Epoch 36/50\n",
      "54000/54000 [==============================] - 1s - loss: 0.2368 - acc: 0.9326 - val_loss: 0.2182 - val_acc: 0.9363\n",
      "Epoch 37/50\n",
      "54000/54000 [==============================] - 1s - loss: 0.2273 - acc: 0.9348 - val_loss: 0.1852 - val_acc: 0.9490\n",
      "Epoch 38/50\n",
      "54000/54000 [==============================] - 0s - loss: 0.2218 - acc: 0.9357 - val_loss: 0.1982 - val_acc: 0.9460\n",
      "Epoch 39/50\n",
      "54000/54000 [==============================] - 1s - loss: 0.2250 - acc: 0.9350 - val_loss: 0.1891 - val_acc: 0.9490\n",
      "Epoch 40/50\n",
      "54000/54000 [==============================] - 1s - loss: 0.2173 - acc: 0.9364 - val_loss: 0.1922 - val_acc: 0.9462\n",
      "Epoch 41/50\n",
      "54000/54000 [==============================] - 0s - loss: 0.2176 - acc: 0.9366 - val_loss: 0.1870 - val_acc: 0.9452\n",
      "Epoch 42/50\n",
      "54000/54000 [==============================] - 1s - loss: 0.2121 - acc: 0.9376 - val_loss: 0.1924 - val_acc: 0.9452\n",
      "Epoch 43/50\n",
      "54000/54000 [==============================] - 1s - loss: 0.2146 - acc: 0.9364 - val_loss: 0.1803 - val_acc: 0.9463\n",
      "Epoch 44/50\n",
      "54000/54000 [==============================] - 1s - loss: 0.2034 - acc: 0.9408 - val_loss: 0.1780 - val_acc: 0.9503\n",
      "Epoch 45/50\n",
      "54000/54000 [==============================] - 0s - loss: 0.2066 - acc: 0.9397 - val_loss: 0.1838 - val_acc: 0.9515\n",
      "Epoch 46/50\n",
      "54000/54000 [==============================] - 1s - loss: 0.2107 - acc: 0.9373 - val_loss: 0.1822 - val_acc: 0.9500\n",
      "Epoch 47/50\n",
      "54000/54000 [==============================] - 0s - loss: 0.2063 - acc: 0.9394 - val_loss: 0.1845 - val_acc: 0.9467\n",
      "Epoch 48/50\n",
      "54000/54000 [==============================] - 0s - loss: 0.2096 - acc: 0.9388 - val_loss: 0.1781 - val_acc: 0.9492\n",
      "Epoch 49/50\n",
      "54000/54000 [==============================] - 1s - loss: 0.2030 - acc: 0.9400 - val_loss: 0.1833 - val_acc: 0.9487\n",
      "Epoch 50/50\n",
      "54000/54000 [==============================] - 0s - loss: 0.2074 - acc: 0.9374 - val_loss: 0.1770 - val_acc: 0.9523\n"
     ]
    },
    {
     "data": {
      "text/plain": [
       "<keras.callbacks.History at 0x7f00bbc33f10>"
      ]
     },
     "execution_count": 23,
     "metadata": {},
     "output_type": "execute_result"
    }
   ],
   "source": [
    "from keras.models import Sequential\n",
    "from keras.layers.core import Dense\n",
    "from keras.optimizers import SGD\n",
    "\n",
    "np.random.seed(1) \n",
    "\n",
    "model = Sequential()\n",
    "model.add(Dense(input_dim=X_train.shape[1], \n",
    "                output_dim=50, \n",
    "                init='uniform', \n",
    "                activation='tanh'))\n",
    "\n",
    "model.add(Dense(input_dim=50, \n",
    "                output_dim=50, \n",
    "                init='uniform', \n",
    "                activation='tanh'))\n",
    "\n",
    "model.add(Dense(input_dim=50, \n",
    "                output_dim=y_train_ohe.shape[1], \n",
    "                init='uniform', \n",
    "                activation='softmax'))\n",
    "\n",
    "sgd = SGD(lr=0.001, decay=1e-7, momentum=.9)\n",
    "model.compile(loss='categorical_crossentropy', optimizer=sgd, metrics=['accuracy'])\n",
    "\n",
    "model.fit(X_train, y_train_ohe, \n",
    "          nb_epoch=50, \n",
    "          batch_size=300, \n",
    "          verbose=1, \n",
    "          validation_split=0.1\n",
    "           )"
   ]
  },
  {
   "cell_type": "code",
   "execution_count": 24,
   "metadata": {},
   "outputs": [
    {
     "name": "stdout",
     "output_type": "stream",
     "text": [
      "Training accuracy: 0.00%\n"
     ]
    }
   ],
   "source": [
    "y_train_pred = model.predict_classes(X_train, verbose=0)\n",
    "train_acc = np.sum(y_train == y_train_pred, axis=0) / X_train.shape[0]\n",
    "print('Training accuracy: %.2f%%' % (train_acc * 100))"
   ]
  },
  {
   "cell_type": "code",
   "execution_count": 25,
   "metadata": {},
   "outputs": [
    {
     "name": "stdout",
     "output_type": "stream",
     "text": [
      "Test accuracy: 0.00%\n"
     ]
    }
   ],
   "source": [
    "y_test_pred = model.predict_classes(X_test, verbose=0)\n",
    "test_acc = np.sum(y_test == y_test_pred, axis=0) / X_test.shape[0]\n",
    "print('Test accuracy: %.2f%%' % (test_acc * 100))"
   ]
  },
  {
   "cell_type": "code",
   "execution_count": null,
   "metadata": {
    "collapsed": true
   },
   "outputs": [],
   "source": []
  }
 ],
 "metadata": {
  "kernelspec": {
   "display_name": "Python 2",
   "language": "python",
   "name": "python2"
  },
  "language_info": {
   "codemirror_mode": {
    "name": "ipython",
    "version": 2
   },
   "file_extension": ".py",
   "mimetype": "text/x-python",
   "name": "python",
   "nbconvert_exporter": "python",
   "pygments_lexer": "ipython2",
   "version": "2.7.13"
  }
 },
 "nbformat": 4,
 "nbformat_minor": 2
}
